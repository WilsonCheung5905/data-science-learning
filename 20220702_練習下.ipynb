{
 "cells": [
  {
   "cell_type": "code",
   "execution_count": 9,
   "id": "5394ca9a-2c09-49c5-8850-d96f0bfbf61a",
   "metadata": {},
   "outputs": [
    {
     "name": "stdout",
     "output_type": "stream",
     "text": [
      "4, 5\n",
      "['4', ' 5']\n",
      "<class 'list'>\n",
      "['4', ' 5']\n",
      "<class 'list'>\n",
      "<class 'str'>\n",
      "20\n"
     ]
    }
   ],
   "source": [
    "a = \"4, 5\"\n",
    "print(a)\n",
    "b= a.split(\",\")\n",
    "print(b)\n",
    "print (type(b))\n",
    "x, y = b\n",
    "print(b)\n",
    "print (type(b))\n",
    "print (type(x))\n",
    "int_prod = int(x) * int(y)\n",
    "print(int_prod)\n"
   ]
  },
  {
   "cell_type": "code",
   "execution_count": null,
   "id": "d5ade4a6-9504-4f8e-ae09-fae1adbddb54",
   "metadata": {},
   "outputs": [],
   "source": []
  },
  {
   "cell_type": "code",
   "execution_count": 10,
   "id": "5f6b5d0a-9c70-46d7-96a6-b7a74dbf2e3b",
   "metadata": {},
   "outputs": [
    {
     "name": "stdout",
     "output_type": "stream",
     "text": [
      "0\n",
      "1\n",
      "3\n",
      "6\n",
      "10\n",
      "15\n",
      "21\n",
      "28\n",
      "36\n",
      "45\n",
      "55\n",
      "66\n",
      "78\n",
      "91\n",
      "105\n",
      "120\n",
      "136\n",
      "153\n",
      "171\n",
      "190\n"
     ]
    }
   ],
   "source": [
    "a=0\n",
    "for i in range(20):\n",
    "    a += i  ## 等於a=a+i\n",
    "    print(a)"
   ]
  },
  {
   "cell_type": "code",
   "execution_count": 11,
   "id": "46f17ace-29e4-4a3f-b3a9-1ef6bafb2e00",
   "metadata": {},
   "outputs": [
    {
     "name": "stdout",
     "output_type": "stream",
     "text": [
      "True\n"
     ]
    }
   ],
   "source": [
    "a=1\n",
    "b=2\n",
    "a= a+a\n",
    "print(b==a)  #判斷True False"
   ]
  },
  {
   "cell_type": "code",
   "execution_count": 23,
   "id": "76150f62-eb90-443e-a78d-2df98a916de8",
   "metadata": {},
   "outputs": [
    {
     "name": "stdout",
     "output_type": "stream",
     "text": [
      "bcdefg\n",
      "be\n"
     ]
    },
    {
     "data": {
      "text/plain": [
       "'e'"
      ]
     },
     "execution_count": 23,
     "metadata": {},
     "output_type": "execute_result"
    }
   ],
   "source": [
    "a=\"abcdefghijklmn\"\n",
    "print(a [1:7])\n",
    "\n",
    "print(a [1:7:3]) ##每三個要第一個\n",
    "\n",
    "a [1:7:3][-1]  ##要排列最後字"
   ]
  },
  {
   "cell_type": "markdown",
   "id": "271abbdb-0b22-40dd-a92e-f3e283fa0e5f",
   "metadata": {
    "jp-MarkdownHeadingCollapsed": true,
    "tags": []
   },
   "source": [
    "for i in range(20)\n"
   ]
  },
  {
   "cell_type": "code",
   "execution_count": 19,
   "id": "1fc93266-9211-4540-8d6f-fe67eb394a73",
   "metadata": {},
   "outputs": [
    {
     "name": "stdin",
     "output_type": "stream",
     "text": [
      "How many terms you want?  5\n"
     ]
    },
    {
     "name": "stdout",
     "output_type": "stream",
     "text": [
      "The Fibonacci Sequence: \n",
      "0\n",
      "1\n",
      "1\n",
      "2\n",
      "3\n"
     ]
    }
   ],
   "source": [
    "a, b= 0, 1\n",
    "c=a+b\n",
    "n = int(input(\"How many terms you want? \"))\n",
    "\n",
    "if  n==0:\n",
    "    print(\"Sorry, the terms have to greater than 0 \")\n",
    "elif n==1:\n",
    "    print(\"The Fibonacci Sequence:\")\n",
    "    print(a)\n",
    "else:\n",
    "    print(\"The Fibonacci Sequence: \")\n",
    "    print(a)\n",
    "    print(b)\n",
    "    for i in range(n-2):  ##The Fibonacci Sequence\n",
    "        c = a + b\n",
    "        a = b\n",
    "        b = c\n",
    "        print(c)\n",
    "        "
   ]
  },
  {
   "cell_type": "code",
   "execution_count": 7,
   "id": "6853dc14-2415-4d8e-a760-fdefc78d6a32",
   "metadata": {},
   "outputs": [
    {
     "name": "stdin",
     "output_type": "stream",
     "text": [
      "How many terms?  5\n"
     ]
    },
    {
     "name": "stdout",
     "output_type": "stream",
     "text": [
      "Fibonacci sequence:\n",
      "0\n",
      "1\n",
      "1\n",
      "2\n",
      "3\n"
     ]
    }
   ],
   "source": [
    "# Program to display the Fibonacci sequence up to n-th term\n",
    "\n",
    "nterms = int(input(\"How many terms? \"))\n",
    "\n",
    "# first two terms\n",
    "n1, n2 = 0, 1\n",
    "count = 0\n",
    "\n",
    "# check if the number of terms is valid\n",
    "if nterms <= 0:\n",
    "   print(\"Please enter a positive integer\")\n",
    "# if there is only one term, return n1\n",
    "elif nterms == 1:\n",
    "   print(\"Fibonacci sequence upto\",nterms,\":\")\n",
    "   print(n1)\n",
    "# generate fibonacci sequence\n",
    "else:\n",
    "   print(\"Fibonacci sequence:\")\n",
    "   while count < nterms:\n",
    "       print(n1)\n",
    "       nth = n1 + n2\n",
    "       # update values\n",
    "       n1 = n2\n",
    "       n2 = nth\n",
    "       count += 1"
   ]
  },
  {
   "cell_type": "code",
   "execution_count": 2,
   "id": "0b4930d4-2c30-4a25-9ec3-fcb4c2a8ff02",
   "metadata": {},
   "outputs": [
    {
     "name": "stdin",
     "output_type": "stream",
     "text": [
      " 10\n"
     ]
    },
    {
     "name": "stdout",
     "output_type": "stream",
     "text": [
      "1\n",
      "2\n",
      "5\n",
      "10\n"
     ]
    }
   ],
   "source": [
    "def numbering_func():\n",
    "    num = int(input())\n",
    "    for k in range(1, num+1):\n",
    "        a = int(num)%k\n",
    "        if a == 0:\n",
    "            print (k)\n",
    "numbering_func()"
   ]
  },
  {
   "cell_type": "code",
   "execution_count": null,
   "id": "a60a308a-3f8b-499d-b5a3-40cb42ac2ab8",
   "metadata": {},
   "outputs": [],
   "source": [
    "##String Formating"
   ]
  },
  {
   "cell_type": "code",
   "execution_count": 4,
   "id": "0cd6bf24-cd7b-4882-9a6c-ffb0b4405262",
   "metadata": {},
   "outputs": [
    {
     "name": "stdout",
     "output_type": "stream",
     "text": [
      "I am Wilson, I am 21\n"
     ]
    }
   ],
   "source": [
    "## Old way\n",
    "name = \"Wilson\"\n",
    "age = \"21\"\n",
    "print (\"I am \"+name+\", I am \"+age)"
   ]
  },
  {
   "cell_type": "code",
   "execution_count": 5,
   "id": "303a3762-5b61-4e80-b0d3-026249db9e50",
   "metadata": {},
   "outputs": [
    {
     "name": "stdout",
     "output_type": "stream",
     "text": [
      "I am Wilson, I am 21\n"
     ]
    }
   ],
   "source": [
    "### f string\n",
    "name = \"Wilson\"\n",
    "age = \"21\"\n",
    "print (f\"I am {name}, I am {age}\")"
   ]
  },
  {
   "cell_type": "code",
   "execution_count": null,
   "id": "7b665a14-2807-44e1-b618-85e53bb2596c",
   "metadata": {},
   "outputs": [],
   "source": []
  },
  {
   "cell_type": "code",
   "execution_count": 7,
   "id": "609504fc-dd3b-4c69-8f2f-dccc0ea46c75",
   "metadata": {},
   "outputs": [
    {
     "data": {
      "text/plain": [
       "'abc@gmail.com _'"
      ]
     },
     "execution_count": 7,
     "metadata": {},
     "output_type": "execute_result"
    }
   ],
   "source": [
    "email='abc@Gmail.Com _'\n",
    "email.lower()\n"
   ]
  },
  {
   "cell_type": "code",
   "execution_count": 10,
   "id": "f96ba7c3-03ca-4001-ac43-7956e7a3fd69",
   "metadata": {},
   "outputs": [
    {
     "data": {
      "text/plain": [
       "'ABC@GMAIL.COM _'"
      ]
     },
     "execution_count": 10,
     "metadata": {},
     "output_type": "execute_result"
    }
   ],
   "source": [
    "email.upper()"
   ]
  },
  {
   "cell_type": "code",
   "execution_count": 9,
   "id": "be738d92-9e57-43f7-9674-57e712adb541",
   "metadata": {},
   "outputs": [
    {
     "data": {
      "text/plain": [
       "'abc@Gmail.Com _'"
      ]
     },
     "execution_count": 9,
     "metadata": {},
     "output_type": "execute_result"
    }
   ],
   "source": [
    "email.strip()"
   ]
  },
  {
   "cell_type": "code",
   "execution_count": 8,
   "id": "c644fa46-6590-48e1-9669-440871f5f912",
   "metadata": {},
   "outputs": [
    {
     "data": {
      "text/plain": [
       "'abc@Gmail.Com'"
      ]
     },
     "execution_count": 8,
     "metadata": {},
     "output_type": "execute_result"
    }
   ],
   "source": [
    "email.strip(' _')"
   ]
  },
  {
   "cell_type": "code",
   "execution_count": 16,
   "id": "a9f70748-d38d-4865-a60c-91981d6e4abf",
   "metadata": {},
   "outputs": [
    {
     "data": {
      "text/plain": [
       "'abc@gmail.com'"
      ]
     },
     "execution_count": 16,
     "metadata": {},
     "output_type": "execute_result"
    }
   ],
   "source": [
    "email='abc@Gmail.Com _'\n",
    "cleaned_email = email.strip(' _').lower()\n",
    "cleaned_email"
   ]
  },
  {
   "cell_type": "code",
   "execution_count": 17,
   "id": "31ca8a95-e98d-4fbd-b78d-0a44d229ae44",
   "metadata": {},
   "outputs": [
    {
     "data": {
      "text/plain": [
       "['abc', 'gmail.com']"
      ]
     },
     "execution_count": 17,
     "metadata": {},
     "output_type": "execute_result"
    }
   ],
   "source": [
    "cleaned_email.split('@')"
   ]
  },
  {
   "cell_type": "code",
   "execution_count": 19,
   "id": "799d86d7-9c2e-4c5f-8475-91c9c22e6bae",
   "metadata": {},
   "outputs": [
    {
     "data": {
      "text/plain": [
       "'abc@hkbu.edu'"
      ]
     },
     "execution_count": 19,
     "metadata": {},
     "output_type": "execute_result"
    }
   ],
   "source": [
    "cleaned_email.replace('gmail.com', 'hkbu.edu')"
   ]
  },
  {
   "cell_type": "code",
   "execution_count": 24,
   "id": "17157322-7f35-4f99-a3c3-1c70cf879b37",
   "metadata": {},
   "outputs": [
    {
     "data": {
      "text/plain": [
       "False"
      ]
     },
     "execution_count": 24,
     "metadata": {},
     "output_type": "execute_result"
    }
   ],
   "source": [
    "cleaned_email.isalpha()"
   ]
  },
  {
   "cell_type": "code",
   "execution_count": 23,
   "id": "70682fa5-cac1-404f-a19e-bc33fa100801",
   "metadata": {},
   "outputs": [
    {
     "data": {
      "text/plain": [
       "False"
      ]
     },
     "execution_count": 23,
     "metadata": {},
     "output_type": "execute_result"
    }
   ],
   "source": [
    "cleaned_email.isalpha()"
   ]
  },
  {
   "cell_type": "code",
   "execution_count": 22,
   "id": "3625d699-c85b-418e-8b32-6be5e6d04e59",
   "metadata": {},
   "outputs": [
    {
     "data": {
      "text/plain": [
       "False"
      ]
     },
     "execution_count": 22,
     "metadata": {},
     "output_type": "execute_result"
    }
   ],
   "source": [
    "cleaned_email.isdigit()"
   ]
  },
  {
   "cell_type": "code",
   "execution_count": null,
   "id": "f25d786c-ca29-43f8-9f67-35e485a1b0e6",
   "metadata": {},
   "outputs": [],
   "source": []
  },
  {
   "cell_type": "code",
   "execution_count": 5,
   "id": "c76d76b7-1a2b-4804-89a4-c4c607558d3b",
   "metadata": {},
   "outputs": [
    {
     "name": "stdout",
     "output_type": "stream",
     "text": [
      "55\n"
     ]
    }
   ],
   "source": [
    "a=0\n",
    "for i in range (11):\n",
    "    a = a + i\n",
    "print(a)"
   ]
  },
  {
   "cell_type": "code",
   "execution_count": 5,
   "id": "cda69ba3-83c8-415c-af69-3c2db921d406",
   "metadata": {},
   "outputs": [
    {
     "name": "stdout",
     "output_type": "stream",
     "text": [
      "1\n",
      "2\n",
      "3\n",
      "4\n",
      "5\n",
      "6\n",
      "7\n",
      "8\n",
      "9\n",
      "10\n",
      "11\n",
      "66\n"
     ]
    }
   ],
   "source": [
    "## while loop\n",
    "a=0\n",
    "i=0\n",
    "while i <=10:            ###Don't try Infinite loop i>=0\n",
    "    i += 1          ###make it loop\n",
    "    print(i)\n",
    "    a += i\n",
    "print(a)"
   ]
  },
  {
   "cell_type": "code",
   "execution_count": 2,
   "id": "cdd0e710-329f-4839-a238-68b74e9a42ed",
   "metadata": {},
   "outputs": [
    {
     "name": "stdin",
     "output_type": "stream",
     "text": [
      "What is your name? sd\n"
     ]
    },
    {
     "name": "stdout",
     "output_type": "stream",
     "text": [
      "wrong name\n"
     ]
    },
    {
     "name": "stdin",
     "output_type": "stream",
     "text": [
      "What is your name? sds\n"
     ]
    },
    {
     "name": "stdout",
     "output_type": "stream",
     "text": [
      "wrong name\n"
     ]
    },
    {
     "name": "stdin",
     "output_type": "stream",
     "text": [
      "What is your name? Wilson\n"
     ]
    }
   ],
   "source": [
    "#continue\n",
    "counter = 0\n",
    "while True:\n",
    "    name = input(\"What is your name?\")\n",
    "    counter += 1\n",
    "    if name == \"Wilson\":\n",
    "        break\n",
    "    elif counter < 3:\n",
    "        print(\"wrong name\")\n",
    "        continue\n",
    "    elif counter >=3:\n",
    "        print(\"You did it too much times...\")\n",
    "        break"
   ]
  },
  {
   "cell_type": "code",
   "execution_count": null,
   "id": "4b08e441-3b48-4ac3-a1cd-6b25af2144e4",
   "metadata": {},
   "outputs": [],
   "source": []
  },
  {
   "cell_type": "code",
   "execution_count": 2,
   "id": "a591d1e9-9c43-4a72-890e-f57740e51ce5",
   "metadata": {},
   "outputs": [
    {
     "name": "stdout",
     "output_type": "stream",
     "text": [
      "1\n",
      "2\n"
     ]
    }
   ],
   "source": [
    "i= 1\n",
    "while True:\n",
    "    if i%3 == 0:\n",
    "        break\n",
    "    print (i)\n",
    "    \n",
    "    i= i+1"
   ]
  },
  {
   "cell_type": "code",
   "execution_count": 8,
   "id": "8ac903f3-0b3f-4391-baf1-a0e97a149770",
   "metadata": {},
   "outputs": [
    {
     "name": "stdout",
     "output_type": "stream",
     "text": [
      "fa"
     ]
    }
   ],
   "source": [
    "x=\"abcdef\"\n",
    "print(x[-1], end = \"a\")\n",
    "i=\"a\"\n",
    "while i in x:\n",
    "    x= x[1:]\n",
    "    "
   ]
  },
  {
   "cell_type": "code",
   "execution_count": 12,
   "id": "83a304a1-1dc1-4e4f-958f-922e2953dea0",
   "metadata": {},
   "outputs": [
    {
     "ename": "NameError",
     "evalue": "name 'inner_fun' is not defined",
     "output_type": "error",
     "traceback": [
      "\u001b[1;31m---------------------------------------------------------------------------\u001b[0m",
      "\u001b[1;31mNameError\u001b[0m                                 Traceback (most recent call last)",
      "Input \u001b[1;32mIn [12]\u001b[0m, in \u001b[0;36m<cell line: 5>\u001b[1;34m()\u001b[0m\n\u001b[0;32m      2\u001b[0m     \u001b[38;5;28;01mreturn\u001b[39;00m inner_fun(\u001b[38;5;241m5\u001b[39m, \u001b[38;5;241m10\u001b[39m)\n\u001b[0;32m      3\u001b[0m     \u001b[38;5;28;01mreturn\u001b[39;00m a\n\u001b[1;32m----> 5\u001b[0m result \u001b[38;5;241m=\u001b[39m \u001b[43mouter_fun\u001b[49m\u001b[43m(\u001b[49m\u001b[38;5;241;43m5\u001b[39;49m\u001b[43m,\u001b[49m\u001b[43m \u001b[49m\u001b[38;5;241;43m10\u001b[39;49m\u001b[43m)\u001b[49m\n\u001b[0;32m      6\u001b[0m \u001b[38;5;28mprint\u001b[39m(result)\n",
      "Input \u001b[1;32mIn [12]\u001b[0m, in \u001b[0;36mouter_fun\u001b[1;34m(a, b)\u001b[0m\n\u001b[0;32m      1\u001b[0m \u001b[38;5;28;01mdef\u001b[39;00m \u001b[38;5;21mouter_fun\u001b[39m(a, b):\n\u001b[1;32m----> 2\u001b[0m     \u001b[38;5;28;01mreturn\u001b[39;00m \u001b[43minner_fun\u001b[49m(\u001b[38;5;241m5\u001b[39m, \u001b[38;5;241m10\u001b[39m)\n\u001b[0;32m      3\u001b[0m     \u001b[38;5;28;01mreturn\u001b[39;00m a\n",
      "\u001b[1;31mNameError\u001b[0m: name 'inner_fun' is not defined"
     ]
    }
   ],
   "source": [
    "def outer_fun(a, b):\n",
    "    return outer_fun(5, 10)\n",
    "    return a\n",
    "\n",
    "result = outer_fun(5, 10)\n",
    "print(result)"
   ]
  },
  {
   "cell_type": "code",
   "execution_count": null,
   "id": "919b9f84-6dee-4c48-a203-c177fbdebf18",
   "metadata": {},
   "outputs": [],
   "source": [
    "def print_fun(a):\n",
    "    print(a)\n",
    "    \n"
   ]
  },
  {
   "cell_type": "code",
   "execution_count": 2,
   "id": "d7460ce2-5809-4d6b-8727-635472ade251",
   "metadata": {},
   "outputs": [
    {
     "name": "stdout",
     "output_type": "stream",
     "text": [
      "123\n",
      "123\n"
     ]
    }
   ],
   "source": [
    "\n",
    "\n",
    "def abc():\n",
    "    efg()\n",
    "    efg()\n",
    "    \n",
    "def efg():\n",
    "    print(\"123\")\n",
    "    \n",
    "abc()"
   ]
  },
  {
   "cell_type": "code",
   "execution_count": 6,
   "id": "43df9623-9b88-4975-bd15-8f017fb1a693",
   "metadata": {},
   "outputs": [
    {
     "ename": "SyntaxError",
     "evalue": "non-default argument follows default argument (1548361888.py, line 1)",
     "output_type": "error",
     "traceback": [
      "\u001b[1;36m  Input \u001b[1;32mIn [6]\u001b[1;36m\u001b[0m\n\u001b[1;33m    def fun(a, b, c = 3, d):\u001b[0m\n\u001b[1;37m                          ^\u001b[0m\n\u001b[1;31mSyntaxError\u001b[0m\u001b[1;31m:\u001b[0m non-default argument follows default argument\n"
     ]
    }
   ],
   "source": [
    "def fun(a, b, c = 3, d):"
   ]
  },
  {
   "cell_type": "code",
   "execution_count": 6,
   "id": "b6de4afa-c3bd-412b-a404-079d035c570a",
   "metadata": {},
   "outputs": [
    {
     "name": "stdout",
     "output_type": "stream",
     "text": [
      "5\n"
     ]
    }
   ],
   "source": [
    "def print_fun(a):\n",
    "    print(a)\n",
    "    \n",
    "print_fun(5)    "
   ]
  },
  {
   "cell_type": "code",
   "execution_count": null,
   "id": "b624d562-8a68-4986-b8d0-73ea23a03c13",
   "metadata": {},
   "outputs": [],
   "source": []
  },
  {
   "cell_type": "code",
   "execution_count": 1,
   "id": "b7f03df2-321d-4905-9156-fff1d75fe9d1",
   "metadata": {},
   "outputs": [
    {
     "name": "stdout",
     "output_type": "stream",
     "text": [
      "['AB', 'CD']\n"
     ]
    }
   ],
   "source": [
    "x= ['ab', 'cd']\n",
    "y= []\n",
    "for i in x:\n",
    "    y.append(i.upper())\n",
    "print(y)"
   ]
  },
  {
   "cell_type": "code",
   "execution_count": 10,
   "id": "c4505a57-3943-4f99-ae07-50884261b267",
   "metadata": {},
   "outputs": [
    {
     "name": "stdout",
     "output_type": "stream",
     "text": [
      "['B', 'C', 'D']\n"
     ]
    }
   ],
   "source": [
    "example = [\"A\",\"B\", \"C\", \"D\"]\n",
    "print(example[-3:])"
   ]
  },
  {
   "cell_type": "code",
   "execution_count": 1,
   "id": "5e3ca59c-026d-4b7e-8fdb-851607bd92b0",
   "metadata": {},
   "outputs": [
    {
     "name": "stdout",
     "output_type": "stream",
     "text": [
      "<class 'set'>\n",
      "{1, 2, 3, 4, 5}\n"
     ]
    }
   ],
   "source": [
    "s= {1, 2, 3, 3, 2, 4, 5, 5}\n",
    "print(type(s))\n",
    "print(s)"
   ]
  },
  {
   "cell_type": "code",
   "execution_count": 22,
   "id": "11e99203-8c5f-49cd-9596-29ad710846ed",
   "metadata": {},
   "outputs": [
    {
     "name": "stdout",
     "output_type": "stream",
     "text": [
      "peter\n",
      "john\n"
     ]
    }
   ],
   "source": [
    "d= {\"peter\":40, \"john\":45}\n",
    "d[\"peter\"]= d[\"peter\"]+10\n",
    "for i in d:\n",
    "    print(i)"
   ]
  },
  {
   "cell_type": "code",
   "execution_count": 18,
   "id": "cefe3ec7-4eb4-4973-9eb7-546b1a60b6a9",
   "metadata": {},
   "outputs": [
    {
     "ename": "SyntaxError",
     "evalue": "invalid syntax (3621343110.py, line 3)",
     "output_type": "error",
     "traceback": [
      "\u001b[1;36m  Input \u001b[1;32mIn [18]\u001b[1;36m\u001b[0m\n\u001b[1;33m    c= [for x in a if x not in b]\u001b[0m\n\u001b[1;37m        ^\u001b[0m\n\u001b[1;31mSyntaxError\u001b[0m\u001b[1;31m:\u001b[0m invalid syntax\n"
     ]
    }
   ],
   "source": [
    "a= [1, 2, 3, 4]\n",
    "b= [3, 4, 5, 6]\n",
    "c= [x for x in a if x not in b]\n",
    "print(c)"
   ]
  },
  {
   "cell_type": "code",
   "execution_count": 21,
   "id": "e1508a93-7b64-44cb-8271-eb5cd1bdaeb9",
   "metadata": {},
   "outputs": [
    {
     "name": "stdout",
     "output_type": "stream",
     "text": [
      "(1, 2, 3)\n"
     ]
    }
   ],
   "source": [
    "\n",
    "a = tuple([1, 2, 3])\n",
    "\n",
    "print(a)"
   ]
  },
  {
   "cell_type": "code",
   "execution_count": null,
   "id": "894e08e9-6969-4cd3-bb0c-9d2b8eea6277",
   "metadata": {},
   "outputs": [],
   "source": []
  }
 ],
 "metadata": {
  "kernelspec": {
   "display_name": "Python 3 (ipykernel)",
   "language": "python",
   "name": "python3"
  },
  "language_info": {
   "codemirror_mode": {
    "name": "ipython",
    "version": 3
   },
   "file_extension": ".py",
   "mimetype": "text/x-python",
   "name": "python",
   "nbconvert_exporter": "python",
   "pygments_lexer": "ipython3",
   "version": "3.9.12"
  }
 },
 "nbformat": 4,
 "nbformat_minor": 5
}
