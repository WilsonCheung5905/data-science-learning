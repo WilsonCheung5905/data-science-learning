{
 "cells": [
  {
   "cell_type": "code",
   "execution_count": null,
   "id": "9cb9e995-2b77-447e-b6e5-5a922eaf015e",
   "metadata": {},
   "outputs": [],
   "source": [
    "# Game: Rock paper scissors\n",
    "# Write a program to play rock paper scissors with the computer.\n",
    "# Requirements:\n",
    "# - Allow user to input only one of ['rock', 'paper', 'scissors']\n",
    "# - Computer randomly pick one\n",
    "# - In each round, it will let the user knows whether the user wins, lose or it's a tie"
   ]
  },
  {
   "cell_type": "code",
   "execution_count": null,
   "id": "11e771a5-6791-4c7c-b2c0-7aa15702e772",
   "metadata": {},
   "outputs": [],
   "source": [
    "# - Play 5 rounds, who wins more rounds will win the game"
   ]
  },
  {
   "cell_type": "code",
   "execution_count": 1,
   "id": "339f18e0-1d28-4ef7-bf57-7bb68e03b330",
   "metadata": {},
   "outputs": [],
   "source": []
  },
  {
   "cell_type": "code",
   "execution_count": 2,
   "id": "8d7064b9-21ff-433a-8192-72dcf2e6b163",
   "metadata": {},
   "outputs": [
    {
     "data": {
      "text/plain": [
       "'scissors'"
      ]
     },
     "execution_count": 2,
     "metadata": {},
     "output_type": "execute_result"
    }
   ],
   "source": [
    "#computer random choice\n",
    "import random\n",
    "def Game_computer_chocie():\n",
    "    choices = ['rock','paper','scissors']\n",
    "    computer_choice = random.choice(choices)\n",
    "    return computer_choice\n",
    "Game_computer_chocie()"
   ]
  },
  {
   "cell_type": "code",
   "execution_count": null,
   "id": "78e4be41-aa01-460f-951d-08fed6d76be1",
   "metadata": {},
   "outputs": [
    {
     "name": "stdin",
     "output_type": "stream",
     "text": [
      "PLease type 'rock', 'paper' or 'scissors'. rock\n"
     ]
    },
    {
     "name": "stdout",
     "output_type": "stream",
     "text": [
      "rock\n"
     ]
    },
    {
     "name": "stdin",
     "output_type": "stream",
     "text": [
      "PLease type 'rock', 'paper' or 'scissors'. okk\n"
     ]
    },
    {
     "name": "stdout",
     "output_type": "stream",
     "text": [
      "okk\n"
     ]
    }
   ],
   "source": [
    "#get the player choice\n",
    "# and check vaild or not\n",
    "#Output players' choices\n",
    "\n",
    "def Game_player_choice():\n",
    "    player_choice = input(\"PLease type 'rock', 'paper' or 'scissors'.\")\n",
    "    choices = ['rock','paper','scissors']\n",
    "    player_choice in choices\n",
    "    \n",
    "    return Game_player_choice()\n",
    "Game_player_choice()"
   ]
  },
  {
   "cell_type": "code",
   "execution_count": null,
   "id": "b7f4ffd5-846f-4d15-912f-6b59360ed1a4",
   "metadata": {},
   "outputs": [],
   "source": [
    "#check who wins\n",
    "def check_answer(computer_choice, player_choice):\n",
    "    if computer_choice == 'rock' and player_choice == 'rock':\n",
    "        print(\"Same\")\n",
    "        counter += 1\n",
    "    elif computer_choice == 'paper'and player_choice == 'paper':\n",
    "        print(\"Same\")\n",
    "        counter += 1\n",
    "    elif computer_choice == 'scissors'and player_choice == 'scissors':\n",
    "        print(\"Same\")\n",
    "        counter += 1\n",
    "    elif computer_choice == 'rock'and player_choice == 'paper':\n",
    "        print(\"PLayer win this round!\")\n",
    "        counter += 1\n",
    "    elif computer_choice == 'rock'and player_choice == 'scissors':\n",
    "        print(\"Computer win this round!\")\n",
    "        counter += 1\n",
    "    elif computer_choice == 'paper'and player_choice == 'rock':\n",
    "        print(\"Computer win this round!\")\n",
    "        counter += 1\n",
    "    elif computer_choice == 'paper'and player_choice == 'scissors':\n",
    "        print(\"PLayer win this round!\")\n",
    "        counter += 1\n",
    "    return check_answer(computer_choice, player_choice)"
   ]
  },
  {
   "cell_type": "code",
   "execution_count": null,
   "id": "87a3fd8f-98dd-4d32-8483-e88bd2dd957a",
   "metadata": {},
   "outputs": [
    {
     "name": "stdin",
     "output_type": "stream",
     "text": [
      "PLease type 'rock', 'paper' or 'scissors'. rock\n"
     ]
    },
    {
     "name": "stdout",
     "output_type": "stream",
     "text": [
      "Computer chose: rock\n",
      "Computer win this round!\n",
      "Round_1\n"
     ]
    },
    {
     "name": "stdin",
     "output_type": "stream",
     "text": [
      "PLease type 'rock', 'paper' or 'scissors'. rock\n"
     ]
    },
    {
     "name": "stdout",
     "output_type": "stream",
     "text": [
      "Computer chose: rock\n",
      "Computer win this round!\n",
      "Round_2\n"
     ]
    },
    {
     "name": "stdin",
     "output_type": "stream",
     "text": [
      "PLease type 'rock', 'paper' or 'scissors'. rock\n"
     ]
    },
    {
     "name": "stdout",
     "output_type": "stream",
     "text": [
      "Computer chose: rock\n",
      "PLayer win this round!\n",
      "Round_3\n"
     ]
    },
    {
     "name": "stdin",
     "output_type": "stream",
     "text": [
      "PLease type 'rock', 'paper' or 'scissors'. rock\n"
     ]
    },
    {
     "name": "stdout",
     "output_type": "stream",
     "text": [
      "Computer chose: rock\n",
      "PLayer win this round!\n",
      "Round_4\n"
     ]
    },
    {
     "name": "stdin",
     "output_type": "stream",
     "text": [
      "PLease type 'rock', 'paper' or 'scissors'. scissors\n"
     ]
    },
    {
     "name": "stdout",
     "output_type": "stream",
     "text": [
      "Computer chose: scissors\n",
      "Player win this round!\n",
      "Round_5\n",
      "Thank you for playing!\n"
     ]
    }
   ],
   "source": [
    "##play 5 rounds, who wins more rounds will win the game\n",
    "\n",
    "import random\n",
    "def Game_computer_chocie():\n",
    "    choices = ['rock','paper','scissors']\n",
    "    computer_choice = random.choice(choices)\n",
    "    return computer_choice\n",
    "\n",
    "def Game_player_choice():\n",
    "    player_choice = input(\"PLease type 'rock', 'paper' or 'scissors'.\")\n",
    "    choices = ['rock','paper','scissors']\n",
    "    \n",
    "    if player_choice in choices:\n",
    "        return player_choice\n",
    "\n",
    "def check_answer(computer_choice, player_choice):\n",
    "    \n",
    "    if computer_choice == 'rock' and player_choice == 'rock':\n",
    "        print(\"Computer chose: \"+computer_choice)\n",
    "        print(\"Same\")\n",
    "        \n",
    "    elif computer_choice == 'paper'and player_choice == 'paper':\n",
    "        print(\"Computer chose: \"+computer_choice)\n",
    "        print(\"Same\")\n",
    "        \n",
    "    elif computer_choice == 'scissors'and player_choice == 'scissors':\n",
    "        print(\"Computer chose: \"+computer_choice)\n",
    "        print(\"Same\")\n",
    "        \n",
    "    elif computer_choice == 'rock'and player_choice == 'paper':\n",
    "        print(\"Computer chose: \"+computer_choice)\n",
    "        print(\"PLayer win this round!\")\n",
    "        \n",
    "    elif computer_choice == 'rock'and player_choice == 'scissors':\n",
    "        print(\"Computer chose: \"+computer_choice)\n",
    "        print(\"Computer win this round!\")\n",
    "        \n",
    "    elif computer_choice == 'paper'and player_choice == 'rock':\n",
    "        print(\"Computer chose: \"+computer_choice)\n",
    "        print(\"Computer win this round!\")\n",
    "        \n",
    "    elif computer_choice == 'paper'and player_choice == 'scissors':\n",
    "        print(\"Computer chose: \"+computer_choice)\n",
    "        print(\"PLayer win this round!\")\n",
    "          \n",
    "    elif computer_choice == 'scissors'and player_choice == 'paper':\n",
    "        print(\"Computer chose: \"+computer_choice)\n",
    "        print(\"Computer win this round!\")\n",
    "        \n",
    "    elif computer_choice == 'scissors'and player_choice == 'rock':\n",
    "        print(\"Computer chose: \"+computer_choice)\n",
    "        print(\"Player win this round!\")\n",
    "        \n",
    "    print (\"Round_\"+str(counter))\n",
    "    return check_answer\n",
    "\n",
    "counter=0\n",
    "a=0\n",
    "while True: \n",
    "    if counter <= 4:\n",
    "        counter += 1\n",
    "        a= Game_player_choice()\n",
    "        b= Game_computer_chocie()\n",
    "        check_answer(a, b)\n",
    "        if counter==5:\n",
    "            print(\"Thank you for playing!\")\n",
    "            "
   ]
  },
  {
   "cell_type": "code",
   "execution_count": null,
   "id": "0715096f-2a79-404f-89b6-3382373edca8",
   "metadata": {},
   "outputs": [],
   "source": []
  },
  {
   "cell_type": "markdown",
   "id": "6c29c781-d8ca-471e-915a-5f6991256f93",
   "metadata": {},
   "source": [
    "# game 2"
   ]
  },
  {
   "cell_type": "raw",
   "id": "544a0f43-082b-419d-9733-3d14b3ab9a6e",
   "metadata": {},
   "source": [
    "pc has a secret number\n",
    "round1: 1-99\n",
    "guess a number - 50\n",
    "round2: 1-50\n",
    "round3: 25-50\n",
    "...\n",
    "you got the numbder ..."
   ]
  },
  {
   "cell_type": "code",
   "execution_count": 4,
   "id": "0893d9a5-1003-46bb-b21f-202bdb507a67",
   "metadata": {},
   "outputs": [
    {
     "data": {
      "text/plain": [
       "24"
      ]
     },
     "execution_count": 4,
     "metadata": {},
     "output_type": "execute_result"
    }
   ],
   "source": [
    "import random\n",
    "\n",
    "def generate_answer():\n",
    "    return random.randint(1, 99)\n"
   ]
  },
  {
   "cell_type": "code",
   "execution_count": null,
   "id": "efcb799a-abf2-4bcf-906f-dc7f28e9f3d3",
   "metadata": {},
   "outputs": [
    {
     "name": "stdin",
     "output_type": "stream",
     "text": [
      "Type within 1-99. 50\n"
     ]
    },
    {
     "name": "stdout",
     "output_type": "stream",
     "text": [
      "50\n",
      "Please type again\n"
     ]
    },
    {
     "name": "stdin",
     "output_type": "stream",
     "text": [
      "Type within 1-99. 50\n"
     ]
    },
    {
     "name": "stdout",
     "output_type": "stream",
     "text": [
      "50\n",
      "Please type again\n"
     ]
    },
    {
     "name": "stdin",
     "output_type": "stream",
     "text": [
      "Type within 1-99. 20\n"
     ]
    },
    {
     "name": "stdout",
     "output_type": "stream",
     "text": [
      "20\n",
      "Please type again\n"
     ]
    },
    {
     "name": "stdin",
     "output_type": "stream",
     "text": [
      "Type within 1-99. 10\n"
     ]
    },
    {
     "name": "stdout",
     "output_type": "stream",
     "text": [
      "10\n",
      "Please type again\n"
     ]
    },
    {
     "name": "stdin",
     "output_type": "stream",
     "text": [
      "Type within 1-99. 50\n"
     ]
    },
    {
     "name": "stdout",
     "output_type": "stream",
     "text": [
      "50\n",
      "Please type again\n"
     ]
    }
   ],
   "source": [
    "def get_input(lower_bound, upper_bound):\n",
    "    while True:\n",
    "        n = int(input(\"Type within 1-99.\"))\n",
    "        if n != (1, 99):\n",
    "            print (n)\n",
    "            print (\"Please type again\")\n",
    "        else:\n",
    "            return get_input(lower_bound, upper_bound)\n",
    "get_input(1, 99)"
   ]
  },
  {
   "cell_type": "code",
   "execution_count": 1,
   "id": "54963228-5d72-4a24-8bfe-d069a62372e7",
   "metadata": {},
   "outputs": [
    {
     "ename": "IndentationError",
     "evalue": "expected an indented block (1670791276.py, line 10)",
     "output_type": "error",
     "traceback": [
      "\u001b[1;36m  Input \u001b[1;32mIn [1]\u001b[1;36m\u001b[0m\n\u001b[1;33m    #return is_correct, lower_bound, upper_bound\u001b[0m\n\u001b[1;37m                                                ^\u001b[0m\n\u001b[1;31mIndentationError\u001b[0m\u001b[1;31m:\u001b[0m expected an indented block\n"
     ]
    }
   ],
   "source": [
    "##check answer, and then update the lower_bound, upper_bound\n",
    "def check_answer (answer, user_input, lower_bound, upper_bound):\n",
    "    # if condition\n",
    "        # user_input ==answer?then player wins\n",
    "        #user_input > answer\n",
    "            #change lower_bound or upper_bound?\n",
    "        #user_input < answer\n",
    "            #change lower_bound or upper_bound?\n",
    "            \n",
    "        #return is_correct, lower_bound, upper_bound"
   ]
  },
  {
   "cell_type": "code",
   "execution_count": null,
   "id": "82b12cb5-6778-450a-9ab3-8bc4120ee315",
   "metadata": {},
   "outputs": [],
   "source": []
  }
 ],
 "metadata": {
  "kernelspec": {
   "display_name": "Python 3 (ipykernel)",
   "language": "python",
   "name": "python3"
  },
  "language_info": {
   "codemirror_mode": {
    "name": "ipython",
    "version": 3
   },
   "file_extension": ".py",
   "mimetype": "text/x-python",
   "name": "python",
   "nbconvert_exporter": "python",
   "pygments_lexer": "ipython3",
   "version": "3.9.12"
  }
 },
 "nbformat": 4,
 "nbformat_minor": 5
}
